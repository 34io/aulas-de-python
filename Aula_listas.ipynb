{
  "nbformat": 4,
  "nbformat_minor": 0,
  "metadata": {
    "colab": {
      "provenance": [],
      "authorship_tag": "ABX9TyMdG6XXxzgmx3tEsgQkthE0",
      "include_colab_link": true
    },
    "kernelspec": {
      "name": "python3",
      "display_name": "Python 3"
    },
    "language_info": {
      "name": "python"
    }
  },
  "cells": [
    {
      "cell_type": "markdown",
      "metadata": {
        "id": "view-in-github",
        "colab_type": "text"
      },
      "source": [
        "<a href=\"https://colab.research.google.com/github/34io/aulas-de-python/blob/main/Aula_listas.ipynb\" target=\"_parent\"><img src=\"https://colab.research.google.com/assets/colab-badge.svg\" alt=\"Open In Colab\"/></a>"
      ]
    },
    {
      "cell_type": "code",
      "execution_count": 2,
      "metadata": {
        "colab": {
          "base_uri": "https://localhost:8080/"
        },
        "id": "rb6oOsLySw43",
        "outputId": "276d59be-6904-4729-e384-87cd175ac5ba"
      },
      "outputs": [
        {
          "output_type": "stream",
          "name": "stdout",
          "text": [
            "['abacaxi', 'manga', 'tomate', 'goiaba', 'jaca']\n"
          ]
        }
      ],
      "source": [
        "frutas = ['abacaxi', 'manga', 'tomate', 'goiaba', 'jaca']\n",
        "print(frutas)"
      ]
    },
    {
      "cell_type": "code",
      "source": [
        "print(len(frutas))"
      ],
      "metadata": {
        "colab": {
          "base_uri": "https://localhost:8080/"
        },
        "id": "ADrykD9GTIu2",
        "outputId": "6676e1b5-035a-4c74-9e96-748c3245b9f7"
      },
      "execution_count": 3,
      "outputs": [
        {
          "output_type": "stream",
          "name": "stdout",
          "text": [
            "5\n"
          ]
        }
      ]
    },
    {
      "cell_type": "code",
      "source": [
        "frutas = ['abacaxi', 'abacate', 'abacate', 'abacaxi', 'morango', 'abacate', 'morango', 'manga']\n",
        "print(frutas.count('morango'))"
      ],
      "metadata": {
        "colab": {
          "base_uri": "https://localhost:8080/"
        },
        "id": "kYxVpx7fTSKd",
        "outputId": "d8590b76-32fa-4a4a-f7a9-975f64541379"
      },
      "execution_count": 7,
      "outputs": [
        {
          "output_type": "stream",
          "name": "stdout",
          "text": [
            "2\n"
          ]
        }
      ]
    },
    {
      "cell_type": "code",
      "source": [
        "carros = ['gol', 'lada', 'voyage', 'fiesta', 'marajó', 'santana', 'uno']\n",
        "print(carros[0]) #gol\n",
        "print(carros[1]) #lada\n",
        "print(carros[2]) #voyage\n",
        "print(carros[3]) #fiesta\n",
        "print(carros[4]) #marajó\n",
        "print(carros[5]) #santana\n",
        "print(carros[6]) #uno\n",
        "print(carros[2:5]) #índie 2 ao índice 4[voyage, fiesta, marajó]\n",
        "print(carros[:4]) #até o índice 3 [gol, lada, voyage, fiesta]\n",
        "print(carros[2:]) #do índice até adiante [voyage, fiesta, marajó, santana, uno]\n",
        "#print(carros[7]) #erro"
      ],
      "metadata": {
        "colab": {
          "base_uri": "https://localhost:8080/"
        },
        "id": "XCwVbb0rTrC2",
        "outputId": "55111fc8-d239-4bf3-94a0-f12e5f2fbfc2"
      },
      "execution_count": 19,
      "outputs": [
        {
          "output_type": "stream",
          "name": "stdout",
          "text": [
            "gol\n",
            "lada\n",
            "voyage\n",
            "fiesta\n",
            "marajó\n",
            "santana\n",
            "uno\n",
            "['voyage', 'fiesta', 'marajó']\n",
            "['gol', 'lada', 'voyage', 'fiesta']\n",
            "['voyage', 'fiesta', 'marajó', 'santana', 'uno']\n"
          ]
        }
      ]
    },
    {
      "cell_type": "code",
      "source": [
        "frutas.append('maçã') #adiciona maçã na última lista e frutas criada\n",
        "print(frutas)"
      ],
      "metadata": {
        "colab": {
          "base_uri": "https://localhost:8080/"
        },
        "id": "cmcCB004VSh2",
        "outputId": "750c0423-2fcf-4bb6-9d40-81b8121fb339"
      },
      "execution_count": 21,
      "outputs": [
        {
          "output_type": "stream",
          "name": "stdout",
          "text": [
            "['abacaxi', 'abacate', 'abacate', 'abacaxi', 'morango', 'abacate', 'morango', 'manga', 'maçã', 'maçã']\n"
          ]
        }
      ]
    },
    {
      "cell_type": "code",
      "source": [
        "#Exercício 1\n",
        "fruta = input('Coloque 1 fruta:')\n",
        "frutas.append(fruta)\n",
        "print(frutas)"
      ],
      "metadata": {
        "colab": {
          "base_uri": "https://localhost:8080/"
        },
        "id": "6cYc_608VhBd",
        "outputId": "be6bea3e-e32c-44ed-af63-181fcf4629e4"
      },
      "execution_count": 31,
      "outputs": [
        {
          "output_type": "stream",
          "name": "stdout",
          "text": [
            "Coloque 1 fruta:mirtilo\n",
            "['abacaxi', 'abacate', 'abacate', 'abacaxi', 'morango', 'abacate', 'morango', 'manga', 'maçã', 'maçã', 'blueberry', 'mirtilo', 'mirtilo']\n"
          ]
        }
      ]
    },
    {
      "cell_type": "code",
      "source": [
        "#Exercício 2\n",
        "carros = []\n",
        "carro = input('Insira nomes de carros(insira 0 quando quiser parar):')\n",
        "while carro != '0':\n",
        " carros.append(carro)\n",
        " carro = input('Insira nomes de carros(insira 0 quando quiser parar):')\n",
        "else:\n",
        "  print(carros)\n",
        "  print(len(carros))"
      ],
      "metadata": {
        "colab": {
          "base_uri": "https://localhost:8080/"
        },
        "id": "pLYwMms9YEAL",
        "outputId": "6d36e772-c909-40bc-c5bb-09e469494fe3"
      },
      "execution_count": 8,
      "outputs": [
        {
          "output_type": "stream",
          "name": "stdout",
          "text": [
            "Insira nomes de carros(insira 0 quando quiser parar):uno\n",
            "Insira nomes de carros(insira 0 quando quiser parar):voyage\n",
            "Insira nomes de carros(insira 0 quando quiser parar):gol\n",
            "Insira nomes de carros(insira 0 quando quiser parar):0\n",
            "['uno', 'voyage', 'gol']\n",
            "3\n"
          ]
        }
      ]
    },
    {
      "cell_type": "code",
      "source": [
        "#Exercício 3\n",
        "lista = [2, 4, 5, 2, 3, 7, 8, 2, 5]\n",
        "valor = int(input('Insira um valor:'))\n",
        "if valor in lista:\n",
        "  print(lista.count(valor))\n",
        "else:\n",
        "  print('Valor não existente na lista')"
      ],
      "metadata": {
        "colab": {
          "base_uri": "https://localhost:8080/"
        },
        "id": "nTKvBi5WbhPe",
        "outputId": "30dad273-ee73-4e69-b266-42e75629dbad"
      },
      "execution_count": 14,
      "outputs": [
        {
          "output_type": "stream",
          "name": "stdout",
          "text": [
            "Insira um valor:2\n",
            "3\n"
          ]
        }
      ]
    },
    {
      "cell_type": "code",
      "source": [
        "#Remoção de valores\n",
        "carros = ['gol', 'lada', 'voyage', 'fiesta', 'marajó', 'santana', 'uno']"
      ],
      "metadata": {
        "id": "z6zXnfaDduJZ"
      },
      "execution_count": 27,
      "outputs": []
    },
    {
      "cell_type": "code",
      "source": [
        "#pop()\n",
        "carros.pop(1)\n",
        "print(carros)"
      ],
      "metadata": {
        "colab": {
          "base_uri": "https://localhost:8080/"
        },
        "id": "SJXPIxEpeGLz",
        "outputId": "000c10dc-337b-4def-af64-ff9fdf03b52b"
      },
      "execution_count": 28,
      "outputs": [
        {
          "output_type": "stream",
          "name": "stdout",
          "text": [
            "['gol', 'voyage', 'fiesta', 'marajó', 'santana', 'uno']\n"
          ]
        }
      ]
    },
    {
      "cell_type": "code",
      "source": [
        "#pop pelo índice\n",
        "lista = ['morango', 'maçã', 'melancia']\n",
        "indice = lista.index('maçã') #encontra o índice de maçã\n",
        "lista.pop(indice) #remove a maçã pelo índice\n",
        "print(lista)"
      ],
      "metadata": {
        "colab": {
          "base_uri": "https://localhost:8080/"
        },
        "id": "PJn2TyNveyfy",
        "outputId": "de8720bf-d6ce-4460-cb9a-26df65eb0046"
      },
      "execution_count": 33,
      "outputs": [
        {
          "output_type": "stream",
          "name": "stdout",
          "text": [
            "['morango', 'melancia']\n"
          ]
        }
      ]
    },
    {
      "cell_type": "code",
      "source": [
        "#remoção pelo del\n",
        "numbers = [4, 5, 3, 2, 6, 8]\n",
        "del numbers[3]\n",
        "print(numbers)"
      ],
      "metadata": {
        "colab": {
          "base_uri": "https://localhost:8080/"
        },
        "id": "dZ2zbVNSfcae",
        "outputId": "55f3a5e6-4a8e-4dbf-b2f2-dd934f2e7f66"
      },
      "execution_count": 35,
      "outputs": [
        {
          "output_type": "stream",
          "name": "stdout",
          "text": [
            "[4, 5, 3, 6, 8]\n"
          ]
        }
      ]
    },
    {
      "cell_type": "code",
      "source": [
        "#remove() - remove apenas a primeira occorência do valor especificado\n",
        "lista = ['amora', 'iogurte', 'amora', 'beijinho', 'achocolatado']\n",
        "lista.remove('amora')\n",
        "print(lista)"
      ],
      "metadata": {
        "colab": {
          "base_uri": "https://localhost:8080/"
        },
        "id": "IQ21GfNcf_Gg",
        "outputId": "a773996b-9640-4202-ff09-cb82afa9effd"
      },
      "execution_count": 36,
      "outputs": [
        {
          "output_type": "stream",
          "name": "stdout",
          "text": [
            "['iogurte', 'amora', 'beijinho', 'achocolatado']\n"
          ]
        }
      ]
    },
    {
      "cell_type": "code",
      "source": [
        "#list comprehension\n",
        "lista = ['suco', 'suspiro', 'amora', 'iogurte', 'amora', 'beijinho', 'achocolatado', 'amora', 'achocolatado']\n",
        "print(lista)\n",
        "fruta_remover = 'amora'\n",
        "lista = [x for x in lista if x != fruta_remover]\n",
        "print(lista)"
      ],
      "metadata": {
        "colab": {
          "base_uri": "https://localhost:8080/"
        },
        "id": "lj-8-UKogjU5",
        "outputId": "fb6a5825-57f0-4e36-e2cd-c14caf1968bd"
      },
      "execution_count": 37,
      "outputs": [
        {
          "output_type": "stream",
          "name": "stdout",
          "text": [
            "['suco', 'suspiro', 'amora', 'iogurte', 'amora', 'beijinho', 'achocolatado', 'amora', 'achocolatado']\n",
            "['suco', 'suspiro', 'iogurte', 'beijinho', 'achocolatado', 'achocolatado']\n"
          ]
        }
      ]
    },
    {
      "cell_type": "code",
      "source": [
        "notas = [6, 8, 5, 4, 7, 7, 9, 3, 6]\n",
        "\n",
        "notas = [x for x in notas if x >= 6]\n",
        "\n",
        "print(notas)"
      ],
      "metadata": {
        "colab": {
          "base_uri": "https://localhost:8080/"
        },
        "id": "usZI49ilhgwr",
        "outputId": "f5768c17-0b62-49fe-e81b-04c92b00fba2"
      },
      "execution_count": 42,
      "outputs": [
        {
          "output_type": "stream",
          "name": "stdout",
          "text": [
            "[6, 8, 7, 7, 9, 6]\n"
          ]
        }
      ]
    },
    {
      "cell_type": "code",
      "source": [
        "# Exercício 4\n",
        "print(\"1. Adicionar tarefa\")\n",
        "print(\"2. Remover tarefa\")\n",
        "print(\"3. Listar tarefas\")\n",
        "print(\"4. Sair\")\n",
        "opcao = int(input(\"Selecione uma das seguintes opções inserindo o número correspondentes:\"))\n",
        "while opcao != 4:\n",
        " print(\"1. Adicionar tarefa\")\n",
        " print(\"2. Remover tarefa\")\n",
        " print(\"3. Listar tarefas\")\n",
        " print(\"4. Sair\")\n",
        " opcao = int(input(\"Selecione uma das seguintes opções inserindo o número correspondentes:\"))\n",
        " if opcao == 4:\n",
        "  break"
      ],
      "metadata": {
        "colab": {
          "base_uri": "https://localhost:8080/"
        },
        "id": "rhE-EYzhieVT",
        "outputId": "b6c036ce-98ff-4f81-f583-8163a39c1486"
      },
      "execution_count": 56,
      "outputs": [
        {
          "name": "stdout",
          "output_type": "stream",
          "text": [
            "1. Adicionar tarefa\n",
            "2. Remover tarefa\n",
            "3. Listar tarefas\n",
            "4. Sair\n",
            "Selecione uma das seguintes opções inserindo o número correspondentes:2\n",
            "1. Adicionar tarefa\n",
            "2. Remover tarefa\n",
            "3. Listar tarefas\n",
            "4. Sair\n",
            "Selecione uma das seguintes opções inserindo o número correspondentes:4\n"
          ]
        }
      ]
    }
  ]
}